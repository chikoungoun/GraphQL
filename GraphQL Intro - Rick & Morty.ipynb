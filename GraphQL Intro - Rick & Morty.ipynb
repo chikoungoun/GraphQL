{
 "cells": [
  {
   "cell_type": "code",
   "execution_count": 4,
   "id": "f24310a0",
   "metadata": {},
   "outputs": [],
   "source": [
    "import requests\n",
    "import json\n",
    "import pandas as pd"
   ]
  },
  {
   "cell_type": "code",
   "execution_count": 18,
   "id": "cb006bd3",
   "metadata": {},
   "outputs": [],
   "source": [
    "query = \"\"\"query {\n",
    "    characters{\n",
    "    results{\n",
    "        name\n",
    "        status\n",
    "        species}\n",
    "    }\n",
    "}\"\"\""
   ]
  },
  {
   "cell_type": "code",
   "execution_count": 19,
   "id": "5dd0fd1c",
   "metadata": {},
   "outputs": [
    {
     "name": "stdout",
     "output_type": "stream",
     "text": [
      "200\n"
     ]
    }
   ],
   "source": [
    "url = 'https://rickandmortyapi.com/graphql/'\n",
    "r = requests.post(url,json={'query':query})\n",
    "print(r.status_code)"
   ]
  },
  {
   "cell_type": "code",
   "execution_count": 20,
   "id": "cd33782a",
   "metadata": {},
   "outputs": [
    {
     "name": "stdout",
     "output_type": "stream",
     "text": [
      "{\"data\":{\"characters\":{\"results\":[{\"name\":\"Rick Sanchez\",\"status\":\"Alive\",\"species\":\"Human\"},{\"name\":\"Morty Smith\",\"status\":\"Alive\",\"species\":\"Human\"},{\"name\":\"Summer Smith\",\"status\":\"Alive\",\"species\":\"Human\"},{\"name\":\"Beth Smith\",\"status\":\"Alive\",\"species\":\"Human\"},{\"name\":\"Jerry Smith\",\"status\":\"Alive\",\"species\":\"Human\"},{\"name\":\"Abadango Cluster Princess\",\"status\":\"Alive\",\"species\":\"Alien\"},{\"name\":\"Abradolf Lincler\",\"status\":\"unknown\",\"species\":\"Human\"},{\"name\":\"Adjudicator Rick\",\"status\":\"Dead\",\"species\":\"Human\"},{\"name\":\"Agency Director\",\"status\":\"Dead\",\"species\":\"Human\"},{\"name\":\"Alan Rails\",\"status\":\"Dead\",\"species\":\"Human\"},{\"name\":\"Albert Einstein\",\"status\":\"Dead\",\"species\":\"Human\"},{\"name\":\"Alexander\",\"status\":\"Dead\",\"species\":\"Human\"},{\"name\":\"Alien Googah\",\"status\":\"unknown\",\"species\":\"Alien\"},{\"name\":\"Alien Morty\",\"status\":\"unknown\",\"species\":\"Alien\"},{\"name\":\"Alien Rick\",\"status\":\"unknown\",\"species\":\"Alien\"},{\"name\":\"Amish Cyborg\",\"status\":\"Dead\",\"species\":\"Alien\"},{\"name\":\"Annie\",\"status\":\"Alive\",\"species\":\"Human\"},{\"name\":\"Antenna Morty\",\"status\":\"Alive\",\"species\":\"Human\"},{\"name\":\"Antenna Rick\",\"status\":\"unknown\",\"species\":\"Human\"},{\"name\":\"Ants in my Eyes Johnson\",\"status\":\"unknown\",\"species\":\"Human\"}]}}}\n"
     ]
    }
   ],
   "source": [
    "print(r.text)"
   ]
  },
  {
   "cell_type": "code",
   "execution_count": null,
   "id": "c001d247",
   "metadata": {},
   "outputs": [],
   "source": []
  }
 ],
 "metadata": {
  "kernelspec": {
   "display_name": "Python 3 (ipykernel)",
   "language": "python",
   "name": "python3"
  },
  "language_info": {
   "codemirror_mode": {
    "name": "ipython",
    "version": 3
   },
   "file_extension": ".py",
   "mimetype": "text/x-python",
   "name": "python",
   "nbconvert_exporter": "python",
   "pygments_lexer": "ipython3",
   "version": "3.8.2"
  }
 },
 "nbformat": 4,
 "nbformat_minor": 5
}
