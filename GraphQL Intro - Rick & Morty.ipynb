{
 "cells": [
  {
   "cell_type": "code",
   "execution_count": 4,
   "id": "4ded68d3",
   "metadata": {},
   "outputs": [],
   "source": [
    "import requests\n",
    "import json\n",
    "import pandas as pd"
   ]
  },
  {
   "cell_type": "code",
   "execution_count": 18,
   "id": "dd27f2fb",
   "metadata": {},
   "outputs": [],
   "source": [
    "query = \"\"\"query {\n",
    "    characters{\n",
    "    results{\n",
    "        name\n",
    "        status\n",
    "        species}\n",
    "    }\n",
    "}\"\"\""
   ]
  },
  {
   "cell_type": "code",
   "execution_count": 19,
   "id": "f38d3228",
   "metadata": {},
   "outputs": [
    {
     "name": "stdout",
     "output_type": "stream",
     "text": [
      "200\n"
     ]
    }
   ],
   "source": [
    "url = 'https://rickandmortyapi.com/graphql/'\n",
    "r = requests.post(url,json={'query':query})\n",
    "print(r.status_code)"
   ]
  },
  {
   "cell_type": "code",
   "execution_count": 20,
   "id": "c4a9a03e",
   "metadata": {},
   "outputs": [
    {
     "name": "stdout",
     "output_type": "stream",
     "text": [
      "{\"data\":{\"characters\":{\"results\":[{\"name\":\"Rick Sanchez\",\"status\":\"Alive\",\"species\":\"Human\"},{\"name\":\"Morty Smith\",\"status\":\"Alive\",\"species\":\"Human\"},{\"name\":\"Summer Smith\",\"status\":\"Alive\",\"species\":\"Human\"},{\"name\":\"Beth Smith\",\"status\":\"Alive\",\"species\":\"Human\"},{\"name\":\"Jerry Smith\",\"status\":\"Alive\",\"species\":\"Human\"},{\"name\":\"Abadango Cluster Princess\",\"status\":\"Alive\",\"species\":\"Alien\"},{\"name\":\"Abradolf Lincler\",\"status\":\"unknown\",\"species\":\"Human\"},{\"name\":\"Adjudicator Rick\",\"status\":\"Dead\",\"species\":\"Human\"},{\"name\":\"Agency Director\",\"status\":\"Dead\",\"species\":\"Human\"},{\"name\":\"Alan Rails\",\"status\":\"Dead\",\"species\":\"Human\"},{\"name\":\"Albert Einstein\",\"status\":\"Dead\",\"species\":\"Human\"},{\"name\":\"Alexander\",\"status\":\"Dead\",\"species\":\"Human\"},{\"name\":\"Alien Googah\",\"status\":\"unknown\",\"species\":\"Alien\"},{\"name\":\"Alien Morty\",\"status\":\"unknown\",\"species\":\"Alien\"},{\"name\":\"Alien Rick\",\"status\":\"unknown\",\"species\":\"Alien\"},{\"name\":\"Amish Cyborg\",\"status\":\"Dead\",\"species\":\"Alien\"},{\"name\":\"Annie\",\"status\":\"Alive\",\"species\":\"Human\"},{\"name\":\"Antenna Morty\",\"status\":\"Alive\",\"species\":\"Human\"},{\"name\":\"Antenna Rick\",\"status\":\"unknown\",\"species\":\"Human\"},{\"name\":\"Ants in my Eyes Johnson\",\"status\":\"unknown\",\"species\":\"Human\"}]}}}\n"
     ]
    }
   ],
   "source": [
    "print(r.text)"
   ]
  },
  {
   "cell_type": "code",
   "execution_count": 21,
   "id": "0de78116",
   "metadata": {},
   "outputs": [],
   "source": [
    "# turn into json\n",
    "json_data = json.loads(r.text)"
   ]
  },
  {
   "cell_type": "code",
   "execution_count": 22,
   "id": "8900472e",
   "metadata": {},
   "outputs": [
    {
     "data": {
      "text/plain": [
       "{'data': {'characters': {'results': [{'name': 'Rick Sanchez',\n",
       "     'status': 'Alive',\n",
       "     'species': 'Human'},\n",
       "    {'name': 'Morty Smith', 'status': 'Alive', 'species': 'Human'},\n",
       "    {'name': 'Summer Smith', 'status': 'Alive', 'species': 'Human'},\n",
       "    {'name': 'Beth Smith', 'status': 'Alive', 'species': 'Human'},\n",
       "    {'name': 'Jerry Smith', 'status': 'Alive', 'species': 'Human'},\n",
       "    {'name': 'Abadango Cluster Princess',\n",
       "     'status': 'Alive',\n",
       "     'species': 'Alien'},\n",
       "    {'name': 'Abradolf Lincler', 'status': 'unknown', 'species': 'Human'},\n",
       "    {'name': 'Adjudicator Rick', 'status': 'Dead', 'species': 'Human'},\n",
       "    {'name': 'Agency Director', 'status': 'Dead', 'species': 'Human'},\n",
       "    {'name': 'Alan Rails', 'status': 'Dead', 'species': 'Human'},\n",
       "    {'name': 'Albert Einstein', 'status': 'Dead', 'species': 'Human'},\n",
       "    {'name': 'Alexander', 'status': 'Dead', 'species': 'Human'},\n",
       "    {'name': 'Alien Googah', 'status': 'unknown', 'species': 'Alien'},\n",
       "    {'name': 'Alien Morty', 'status': 'unknown', 'species': 'Alien'},\n",
       "    {'name': 'Alien Rick', 'status': 'unknown', 'species': 'Alien'},\n",
       "    {'name': 'Amish Cyborg', 'status': 'Dead', 'species': 'Alien'},\n",
       "    {'name': 'Annie', 'status': 'Alive', 'species': 'Human'},\n",
       "    {'name': 'Antenna Morty', 'status': 'Alive', 'species': 'Human'},\n",
       "    {'name': 'Antenna Rick', 'status': 'unknown', 'species': 'Human'},\n",
       "    {'name': 'Ants in my Eyes Johnson',\n",
       "     'status': 'unknown',\n",
       "     'species': 'Human'}]}}}"
      ]
     },
     "execution_count": 22,
     "metadata": {},
     "output_type": "execute_result"
    }
   ],
   "source": [
    "json_data"
   ]
  },
  {
   "cell_type": "code",
   "execution_count": 23,
   "id": "a07468b1",
   "metadata": {},
   "outputs": [],
   "source": [
    "# turn into pandas\n",
    "df_data = json_data['data']['characters']['results']\n",
    "df = pd.DataFrame(df_data)"
   ]
  },
  {
   "cell_type": "code",
   "execution_count": 24,
   "id": "c10a10ea",
   "metadata": {},
   "outputs": [
    {
     "data": {
      "text/html": [
       "<div>\n",
       "<style scoped>\n",
       "    .dataframe tbody tr th:only-of-type {\n",
       "        vertical-align: middle;\n",
       "    }\n",
       "\n",
       "    .dataframe tbody tr th {\n",
       "        vertical-align: top;\n",
       "    }\n",
       "\n",
       "    .dataframe thead th {\n",
       "        text-align: right;\n",
       "    }\n",
       "</style>\n",
       "<table border=\"1\" class=\"dataframe\">\n",
       "  <thead>\n",
       "    <tr style=\"text-align: right;\">\n",
       "      <th></th>\n",
       "      <th>name</th>\n",
       "      <th>status</th>\n",
       "      <th>species</th>\n",
       "    </tr>\n",
       "  </thead>\n",
       "  <tbody>\n",
       "    <tr>\n",
       "      <th>0</th>\n",
       "      <td>Rick Sanchez</td>\n",
       "      <td>Alive</td>\n",
       "      <td>Human</td>\n",
       "    </tr>\n",
       "    <tr>\n",
       "      <th>1</th>\n",
       "      <td>Morty Smith</td>\n",
       "      <td>Alive</td>\n",
       "      <td>Human</td>\n",
       "    </tr>\n",
       "    <tr>\n",
       "      <th>2</th>\n",
       "      <td>Summer Smith</td>\n",
       "      <td>Alive</td>\n",
       "      <td>Human</td>\n",
       "    </tr>\n",
       "    <tr>\n",
       "      <th>3</th>\n",
       "      <td>Beth Smith</td>\n",
       "      <td>Alive</td>\n",
       "      <td>Human</td>\n",
       "    </tr>\n",
       "    <tr>\n",
       "      <th>4</th>\n",
       "      <td>Jerry Smith</td>\n",
       "      <td>Alive</td>\n",
       "      <td>Human</td>\n",
       "    </tr>\n",
       "    <tr>\n",
       "      <th>5</th>\n",
       "      <td>Abadango Cluster Princess</td>\n",
       "      <td>Alive</td>\n",
       "      <td>Alien</td>\n",
       "    </tr>\n",
       "    <tr>\n",
       "      <th>6</th>\n",
       "      <td>Abradolf Lincler</td>\n",
       "      <td>unknown</td>\n",
       "      <td>Human</td>\n",
       "    </tr>\n",
       "    <tr>\n",
       "      <th>7</th>\n",
       "      <td>Adjudicator Rick</td>\n",
       "      <td>Dead</td>\n",
       "      <td>Human</td>\n",
       "    </tr>\n",
       "    <tr>\n",
       "      <th>8</th>\n",
       "      <td>Agency Director</td>\n",
       "      <td>Dead</td>\n",
       "      <td>Human</td>\n",
       "    </tr>\n",
       "    <tr>\n",
       "      <th>9</th>\n",
       "      <td>Alan Rails</td>\n",
       "      <td>Dead</td>\n",
       "      <td>Human</td>\n",
       "    </tr>\n",
       "    <tr>\n",
       "      <th>10</th>\n",
       "      <td>Albert Einstein</td>\n",
       "      <td>Dead</td>\n",
       "      <td>Human</td>\n",
       "    </tr>\n",
       "    <tr>\n",
       "      <th>11</th>\n",
       "      <td>Alexander</td>\n",
       "      <td>Dead</td>\n",
       "      <td>Human</td>\n",
       "    </tr>\n",
       "    <tr>\n",
       "      <th>12</th>\n",
       "      <td>Alien Googah</td>\n",
       "      <td>unknown</td>\n",
       "      <td>Alien</td>\n",
       "    </tr>\n",
       "    <tr>\n",
       "      <th>13</th>\n",
       "      <td>Alien Morty</td>\n",
       "      <td>unknown</td>\n",
       "      <td>Alien</td>\n",
       "    </tr>\n",
       "    <tr>\n",
       "      <th>14</th>\n",
       "      <td>Alien Rick</td>\n",
       "      <td>unknown</td>\n",
       "      <td>Alien</td>\n",
       "    </tr>\n",
       "    <tr>\n",
       "      <th>15</th>\n",
       "      <td>Amish Cyborg</td>\n",
       "      <td>Dead</td>\n",
       "      <td>Alien</td>\n",
       "    </tr>\n",
       "    <tr>\n",
       "      <th>16</th>\n",
       "      <td>Annie</td>\n",
       "      <td>Alive</td>\n",
       "      <td>Human</td>\n",
       "    </tr>\n",
       "    <tr>\n",
       "      <th>17</th>\n",
       "      <td>Antenna Morty</td>\n",
       "      <td>Alive</td>\n",
       "      <td>Human</td>\n",
       "    </tr>\n",
       "    <tr>\n",
       "      <th>18</th>\n",
       "      <td>Antenna Rick</td>\n",
       "      <td>unknown</td>\n",
       "      <td>Human</td>\n",
       "    </tr>\n",
       "    <tr>\n",
       "      <th>19</th>\n",
       "      <td>Ants in my Eyes Johnson</td>\n",
       "      <td>unknown</td>\n",
       "      <td>Human</td>\n",
       "    </tr>\n",
       "  </tbody>\n",
       "</table>\n",
       "</div>"
      ],
      "text/plain": [
       "                         name   status species\n",
       "0                Rick Sanchez    Alive   Human\n",
       "1                 Morty Smith    Alive   Human\n",
       "2                Summer Smith    Alive   Human\n",
       "3                  Beth Smith    Alive   Human\n",
       "4                 Jerry Smith    Alive   Human\n",
       "5   Abadango Cluster Princess    Alive   Alien\n",
       "6            Abradolf Lincler  unknown   Human\n",
       "7            Adjudicator Rick     Dead   Human\n",
       "8             Agency Director     Dead   Human\n",
       "9                  Alan Rails     Dead   Human\n",
       "10            Albert Einstein     Dead   Human\n",
       "11                  Alexander     Dead   Human\n",
       "12               Alien Googah  unknown   Alien\n",
       "13                Alien Morty  unknown   Alien\n",
       "14                 Alien Rick  unknown   Alien\n",
       "15               Amish Cyborg     Dead   Alien\n",
       "16                      Annie    Alive   Human\n",
       "17              Antenna Morty    Alive   Human\n",
       "18               Antenna Rick  unknown   Human\n",
       "19    Ants in my Eyes Johnson  unknown   Human"
      ]
     },
     "execution_count": 24,
     "metadata": {},
     "output_type": "execute_result"
    }
   ],
   "source": [
    "df"
   ]
  },
  {
   "cell_type": "code",
   "execution_count": null,
   "id": "cd3305d4",
   "metadata": {},
   "outputs": [],
   "source": []
  }
 ],
 "metadata": {
  "kernelspec": {
   "display_name": "Python 3 (ipykernel)",
   "language": "python",
   "name": "python3"
  },
  "language_info": {
   "codemirror_mode": {
    "name": "ipython",
    "version": 3
   },
   "file_extension": ".py",
   "mimetype": "text/x-python",
   "name": "python",
   "nbconvert_exporter": "python",
   "pygments_lexer": "ipython3",
   "version": "3.8.2"
  }
 },
 "nbformat": 4,
 "nbformat_minor": 5
}
